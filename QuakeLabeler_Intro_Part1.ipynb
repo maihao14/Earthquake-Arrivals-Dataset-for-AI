{
  "nbformat": 4,
  "nbformat_minor": 0,
  "metadata": {
    "colab": {
      "name": "QuakeLabeler_Intro_Part1.ipynb",
      "provenance": [],
      "collapsed_sections": [],
      "toc_visible": true,
      "mount_file_id": "1dhS6qHrxuRp1XijUhdQqaLDtaxZ4DciA",
      "authorship_tag": "ABX9TyPpWKywK8wuijXv/n5GT0Ty",
      "include_colab_link": true
    },
    "kernelspec": {
      "name": "python3",
      "display_name": "Python 3"
    },
    "language_info": {
      "name": "python"
    },
    "accelerator": "GPU"
  },
  "cells": [
    {
      "cell_type": "markdown",
      "metadata": {
        "id": "view-in-github",
        "colab_type": "text"
      },
      "source": [
        "<a href=\"https://colab.research.google.com/github/maihao14/Earthquake-Arrivals-Dataset-for-AI/blob/main/QuakeLabeler_Intro_Part1.ipynb\" target=\"_parent\"><img src=\"https://colab.research.google.com/assets/colab-badge.svg\" alt=\"Open In Colab\"/></a>"
      ]
    },
    {
      "cell_type": "markdown",
      "metadata": {
        "id": "unzejPjhiXrF"
      },
      "source": [
        "# How to Prepare an Earthquake Dataset via QuakeLabeler\n",
        "\n",
        "In this notebook we will introduce how to design an Earthquake dataset from online earthquake cataloge clients by using our Python package: QuakeLabler.\n",
        "[For more details, view QuakeLabeler GitHub repository](https://github.com/maihao14/QuakeLabeler)"
      ]
    },
    {
      "cell_type": "markdown",
      "metadata": {
        "id": "DYZRpp9-iwai"
      },
      "source": [
        "# Step 0: Preparation | Installation\n",
        "Install essential packages \n",
        "Here we directly clone QuakeLabeler package from GitHub repository. `QuakeLabeler` will install dependency packages, i.e., ObsPy, PyGMT, requestes,etc., simultaneously. \n",
        "\n",
        "### Install conda\n"
      ]
    },
    {
      "cell_type": "code",
      "metadata": {
        "id": "bKl1mrjI7EHG"
      },
      "source": [
        "!pip install -q condacolab\n",
        "import condacolab\n",
        "condacolab.install()"
      ],
      "execution_count": null,
      "outputs": []
    },
    {
      "cell_type": "markdown",
      "metadata": {
        "id": "yGhslcU1-He0"
      },
      "source": [
        "## Install dependent package: PyGMT\n",
        "Installation of PyGMT in Google Colab is tricky. <br>\n",
        "Thanks to Author: [A.L. Belem](mailto:andrebelem@id.uff.br) @ [Oceanographic Observatory](http://www.observatoiriooceanografico.uff.br) 2021 (version 1)<br>\n",
        "Create this notebook made for students in the **Climate Change and its Impacts** class (and for those more interested in) using [PyGMT](https://www.pygmt.org/latest/) to produce their figures. The challenge here was to use the new [GMT6](https://www.generic-mapping-tools.org/) with PyGMT in the COLAB environment (without having to install python locally).<br>\n",
        "\n",
        "The lines below can work separately or together. The suggestion is that you keep running each line and studying both its content and the result. Copy to your Google Drive and modify as necessary (in addition to including your own annotations).<br>\n",
        "\n",
        "This Notebook is designed to be used in **Google Colab**, but it also fits the Jupyter Notebook or Jupyter Lab. Just skip the installation part and go straight to the pygmt code if you have already installed everything on your desktop."
      ]
    },
    {
      "cell_type": "code",
      "metadata": {
        "id": "8lB8Yr-eY4li"
      },
      "source": [
        "\n",
        "# cite from GitHub@andrebelem  \n",
        "# https://github.com/andrebelem/pythonverse/blob/main/PyGMT_on_COLAB.ipynb\n",
        "\n",
        "%%capture\n",
        "!sudo apt update \n",
        "!sudo apt upgrade -y\n",
        "!sudo apt install -y build-essential cmake libcurl4-gnutls-dev libnetcdf-dev gdal-bin libgdal-dev libfftw3-dev libpcre3-dev liblapack-dev libblas-dev libglib2.0-dev ghostscript ghostscript-x graphicsmagick ffmpeg xdg-utils\n",
        "# clone gmt from source\n",
        "!git clone --depth 50 https://github.com/GenericMappingTools/gmt\n",
        "# cmake everything\n",
        "!cmake /content/gmt\n",
        "# build and install\n",
        "!cmake --build . --target install"
      ],
      "execution_count": null,
      "outputs": []
    },
    {
      "cell_type": "code",
      "metadata": {
        "id": "5YrAdOx6iOY9"
      },
      "source": [
        "# install pygmt with pip\n",
        "%%capture\n",
        "!pip install pygmt"
      ],
      "execution_count": null,
      "outputs": []
    },
    {
      "cell_type": "markdown",
      "metadata": {
        "id": "mS8b9RAP-O82"
      },
      "source": [
        "## Check if installation sucessfully"
      ]
    },
    {
      "cell_type": "code",
      "metadata": {
        "colab": {
          "base_uri": "https://localhost:8080/"
        },
        "id": "Zs_AoYV58p8T",
        "outputId": "2b9258b7-530b-46df-f298-c4173a235a65"
      },
      "source": [
        "import pygmt\n",
        "pygmt.show_versions()"
      ],
      "execution_count": null,
      "outputs": [
        {
          "output_type": "stream",
          "name": "stdout",
          "text": [
            "PyGMT information:\n",
            "  version: v0.4.1\n",
            "System information:\n",
            "  python: 3.7.11 (default, Jul  3 2021, 18:01:19)  [GCC 7.5.0]\n",
            "  executable: /usr/bin/python3\n",
            "  machine: Linux-5.4.104+-x86_64-with-Ubuntu-18.04-bionic\n",
            "Dependency information:\n",
            "  numpy: 1.19.5\n",
            "  pandas: 1.1.5\n",
            "  xarray: 0.18.2\n",
            "  netCDF4: 1.5.7\n",
            "  packaging: 21.0\n",
            "  ghostscript: 9.26\n",
            "  gmt: 6.3.0_07415a7_2021.09.04\n",
            "GMT library information:\n",
            "  binary dir: /usr/bin\n",
            "  cores: 2\n",
            "  grid layout: rows\n",
            "  library path: /usr/local/lib/libgmt.so\n",
            "  padding: 2\n",
            "  plugin dir: /usr/local/lib/gmt/plugins\n",
            "  share dir: /usr/local/share\n",
            "  version: 6.3.0\n"
          ]
        }
      ]
    },
    {
      "cell_type": "markdown",
      "metadata": {
        "id": "w6dp2LLz_u3t"
      },
      "source": [
        "# Step 1: Install QuakeLabeler\n",
        "QuakeLabeler includes all other dependencies. "
      ]
    },
    {
      "cell_type": "code",
      "metadata": {
        "id": "LQk4GD3wjNyD",
        "colab": {
          "base_uri": "https://localhost:8080/"
        },
        "outputId": "9ce6e4f6-8206-4f94-865f-c378afbe6c66"
      },
      "source": [
        "!git clone https://github.com/maihao14/QuakeLabeler.git\n",
        "%cd QuakeLabeler/\n",
        "!pip install .\n",
        "%cd .."
      ],
      "execution_count": null,
      "outputs": [
        {
          "output_type": "stream",
          "name": "stdout",
          "text": [
            "Cloning into 'QuakeLabeler'...\n",
            "remote: Enumerating objects: 692, done.\u001b[K\n",
            "remote: Counting objects: 100% (692/692), done.\u001b[K\n",
            "remote: Compressing objects: 100% (441/441), done.\u001b[K\n",
            "remote: Total 692 (delta 349), reused 551 (delta 228), pack-reused 0\u001b[K\n",
            "Receiving objects: 100% (692/692), 7.76 MiB | 21.71 MiB/s, done.\n",
            "Resolving deltas: 100% (349/349), done.\n",
            "/content/QuakeLabeler\n",
            "Processing /content/QuakeLabeler\n",
            "\u001b[33m  DEPRECATION: A future pip version will change local packages to be built in-place without first copying to a temporary directory. We recommend you use --use-feature=in-tree-build to test your packages with this new behavior before it becomes the default.\n",
            "   pip 21.3 will remove support for this functionality. You can find discussion regarding this at https://github.com/pypa/pip/issues/7555.\u001b[0m\n",
            "Requirement already satisfied: numpy in /usr/local/lib/python3.7/dist-packages (from QuakeLabeler==0.0.1) (1.19.5)\n",
            "Collecting obspy\n",
            "  Downloading obspy-1.2.2.zip (24.7 MB)\n",
            "\u001b[K     |████████████████████████████████| 24.7 MB 56 kB/s \n",
            "\u001b[?25h  Installing build dependencies ... \u001b[?25l\u001b[?25hdone\n",
            "  Getting requirements to build wheel ... \u001b[?25l\u001b[?25hdone\n",
            "  Installing backend dependencies ... \u001b[?25l\u001b[?25hdone\n",
            "    Preparing wheel metadata ... \u001b[?25l\u001b[?25hdone\n",
            "Requirement already satisfied: scipy in /usr/local/lib/python3.7/dist-packages (from QuakeLabeler==0.0.1) (1.4.1)\n",
            "Requirement already satisfied: requests in /usr/local/lib/python3.7/dist-packages (from QuakeLabeler==0.0.1) (2.23.0)\n",
            "Collecting progress\n",
            "  Downloading progress-1.6.tar.gz (7.8 kB)\n",
            "Requirement already satisfied: matplotlib in /usr/local/lib/python3.7/dist-packages (from QuakeLabeler==0.0.1) (3.2.2)\n",
            "Collecting termplotlib\n",
            "  Downloading termplotlib-0.3.8-py3-none-any.whl (21 kB)\n",
            "Collecting art\n",
            "  Downloading art-5.3-py2.py3-none-any.whl (574 kB)\n",
            "\u001b[K     |████████████████████████████████| 574 kB 46.0 MB/s \n",
            "\u001b[?25hRequirement already satisfied: pyparsing!=2.0.4,!=2.1.2,!=2.1.6,>=2.0.1 in /usr/local/lib/python3.7/dist-packages (from matplotlib->QuakeLabeler==0.0.1) (2.4.7)\n",
            "Requirement already satisfied: cycler>=0.10 in /usr/local/lib/python3.7/dist-packages (from matplotlib->QuakeLabeler==0.0.1) (0.10.0)\n",
            "Requirement already satisfied: kiwisolver>=1.0.1 in /usr/local/lib/python3.7/dist-packages (from matplotlib->QuakeLabeler==0.0.1) (1.3.1)\n",
            "Requirement already satisfied: python-dateutil>=2.1 in /usr/local/lib/python3.7/dist-packages (from matplotlib->QuakeLabeler==0.0.1) (2.8.2)\n",
            "Requirement already satisfied: six in /usr/local/lib/python3.7/dist-packages (from cycler>=0.10->matplotlib->QuakeLabeler==0.0.1) (1.15.0)\n",
            "Requirement already satisfied: sqlalchemy in /usr/local/lib/python3.7/dist-packages (from obspy->QuakeLabeler==0.0.1) (1.4.22)\n",
            "Requirement already satisfied: setuptools in /usr/local/lib/python3.7/dist-packages (from obspy->QuakeLabeler==0.0.1) (57.4.0)\n",
            "Requirement already satisfied: decorator in /usr/local/lib/python3.7/dist-packages (from obspy->QuakeLabeler==0.0.1) (4.4.2)\n",
            "Requirement already satisfied: future>=0.12.4 in /usr/local/lib/python3.7/dist-packages (from obspy->QuakeLabeler==0.0.1) (0.16.0)\n",
            "Requirement already satisfied: lxml in /usr/local/lib/python3.7/dist-packages (from obspy->QuakeLabeler==0.0.1) (4.2.6)\n",
            "Requirement already satisfied: idna<3,>=2.5 in /usr/local/lib/python3.7/dist-packages (from requests->QuakeLabeler==0.0.1) (2.10)\n",
            "Requirement already satisfied: urllib3!=1.25.0,!=1.25.1,<1.26,>=1.21.1 in /usr/local/lib/python3.7/dist-packages (from requests->QuakeLabeler==0.0.1) (1.24.3)\n",
            "Requirement already satisfied: chardet<4,>=3.0.2 in /usr/local/lib/python3.7/dist-packages (from requests->QuakeLabeler==0.0.1) (3.0.4)\n",
            "Requirement already satisfied: certifi>=2017.4.17 in /usr/local/lib/python3.7/dist-packages (from requests->QuakeLabeler==0.0.1) (2021.5.30)\n",
            "Requirement already satisfied: greenlet!=0.4.17 in /usr/local/lib/python3.7/dist-packages (from sqlalchemy->obspy->QuakeLabeler==0.0.1) (1.1.1)\n",
            "Requirement already satisfied: importlib-metadata in /usr/local/lib/python3.7/dist-packages (from sqlalchemy->obspy->QuakeLabeler==0.0.1) (4.6.4)\n",
            "Requirement already satisfied: zipp>=0.5 in /usr/local/lib/python3.7/dist-packages (from importlib-metadata->sqlalchemy->obspy->QuakeLabeler==0.0.1) (3.5.0)\n",
            "Requirement already satisfied: typing-extensions>=3.6.4 in /usr/local/lib/python3.7/dist-packages (from importlib-metadata->sqlalchemy->obspy->QuakeLabeler==0.0.1) (3.7.4.3)\n",
            "Building wheels for collected packages: QuakeLabeler, obspy, progress\n",
            "  Building wheel for QuakeLabeler (setup.py) ... \u001b[?25l\u001b[?25hdone\n",
            "  Created wheel for QuakeLabeler: filename=QuakeLabeler-0.0.1-py3-none-any.whl size=24078 sha256=6dd5fe9b9142908f336767ba524315acb063abf476729ae0ca7d56f5a5a748f6\n",
            "  Stored in directory: /tmp/pip-ephem-wheel-cache-jfs25gby/wheels/16/a1/b6/58746d7cb449b2d3d64422133fe80740ac862c6b259f1c78f1\n",
            "  Building wheel for obspy (PEP 517) ... \u001b[?25l\u001b[?25hdone\n",
            "  Created wheel for obspy: filename=obspy-1.2.2-cp37-cp37m-linux_x86_64.whl size=21667185 sha256=910dc43268a11b43bbe9def0655481721c0582f3adf09581c05115059e1b9e23\n",
            "  Stored in directory: /root/.cache/pip/wheels/28/7e/ea/0a37d5f5001d096cf97d6527b60300badd2d0074449e89c736\n",
            "  Building wheel for progress (setup.py) ... \u001b[?25l\u001b[?25hdone\n",
            "  Created wheel for progress: filename=progress-1.6-py3-none-any.whl size=9628 sha256=89230fe440d1abe700088356cec37874def7dee6240b289e596858bcaf91600c\n",
            "  Stored in directory: /root/.cache/pip/wheels/8e/d7/61/498d8e27dc11e9805b01eb3539e2ee344436fc226daeb5fe87\n",
            "Successfully built QuakeLabeler obspy progress\n",
            "Installing collected packages: termplotlib, progress, obspy, art, QuakeLabeler\n",
            "Successfully installed QuakeLabeler-0.0.1 art-5.3 obspy-1.2.2 progress-1.6 termplotlib-0.3.8\n",
            "/content\n"
          ]
        }
      ]
    },
    {
      "cell_type": "markdown",
      "metadata": {
        "id": "FRosQtGzl_V4"
      },
      "source": [
        "# Step 2: Import QuakeLabeler packages  \n",
        "Import `QuakeLabeler`. "
      ]
    },
    {
      "cell_type": "code",
      "metadata": {
        "id": "memnpfBfi4FO",
        "colab": {
          "base_uri": "https://localhost:8080/"
        },
        "outputId": "70132348-9987-46d2-f57c-a1bb9bb742a4"
      },
      "source": [
        "# import package\n",
        "from quakelabeler import *\n",
        "print(\"Import package finished!\")"
      ],
      "execution_count": null,
      "outputs": [
        {
          "output_type": "stream",
          "name": "stdout",
          "text": [
            "Import package finished!\n"
          ]
        }
      ]
    },
    {
      "cell_type": "markdown",
      "metadata": {
        "id": "iUm1qhavCNpk"
      },
      "source": [
        "## Enable file browsing"
      ]
    },
    {
      "cell_type": "code",
      "metadata": {
        "id": "RpobSROcCTOc"
      },
      "source": [
        "from google.colab import drive\n",
        "drive.mount('/content/drive')\n",
        "!pwd"
      ],
      "execution_count": null,
      "outputs": []
    },
    {
      "cell_type": "markdown",
      "metadata": {
        "id": "ErZpFfyima9d"
      },
      "source": [
        "# Step 3: Run QuakeLabeler | Running mode selection\n",
        "Three optional running modes are implemented in QuakeLabeler.\n",
        "\n",
        "\n",
        "*   Beginner\n",
        "*   Advanced\n",
        "*   Benchmark\n",
        "\n",
        "Here we create a new folder named `QLTest` to try `Beginner` mode.\n",
        "\n",
        "\n",
        "## Example: Collect global earthquakes in 2018\n",
        "Here we query earthquake events from worldwide range. All natural events will be downloaded as a series of arrival-based catalog. \\\\\n",
        "Data source: [ISC Arrivals Bulletin ](http://isc-mirror.iris.washington.edu/iscbulletin/search/arrivals/#amplitudes)\n",
        "Annual global earthquake catalog has less query parameters so that it has a fast response speed from ISC website.\n",
        "Note that [ISC Arrivals Bulletin ](http://isc-mirror.iris.washington.edu/iscbulletin/search/arrivals/#amplitudes) has a limitation of maxmimum 60,000 events at each search. We spilt one year research as two parts (Jan-01 to June 15, June 16 - Dec 31).\n"
      ]
    },
    {
      "cell_type": "code",
      "metadata": {
        "colab": {
          "base_uri": "https://localhost:8080/"
        },
        "id": "GW2N8a5Pm_HJ",
        "outputId": "0bd4d6bf-f456-4a60-b62d-98f693934413"
      },
      "source": [
        "!mkdir QLTest\n",
        "%cd QLTest"
      ],
      "execution_count": null,
      "outputs": [
        {
          "output_type": "stream",
          "name": "stdout",
          "text": [
            "/content/QLTest\n"
          ]
        }
      ]
    },
    {
      "cell_type": "markdown",
      "metadata": {
        "id": "o2c-NKE4nVge"
      },
      "source": [
        "## Example: Beginner mode\n",
        "`Beginner` mode includes several instances of defined earthuake catalog. Select one case then QuakeLabeler will create search request form automatically.\n"
      ]
    },
    {
      "cell_type": "code",
      "metadata": {
        "colab": {
          "base_uri": "https://localhost:8080/"
        },
        "id": "2-mU0B4xnLur",
        "outputId": "343ada6d-0942-4783-ad88-fd1bf7086e98"
      },
      "source": [
        "# start Interactive interface\n",
        "user_interface = Interactive()"
      ],
      "execution_count": null,
      "outputs": [
        {
          "name": "stdout",
          "output_type": "stream",
          "text": [
            "Welcome to QuakeLabeler----Fast AI Earthquake Dataset Deployment Tool!\n",
            "\n",
            "   ____              _        _           _          _\n",
            "  / __ \\            | |      | |         | |        | |\n",
            " | |  | |_   _  __ _| | _____| |     __ _| |__   ___| | ___ _ __\n",
            " | |  | | | | |/ _` | |/ / _ \\ |    / _` | '_ \\ / _ \\ |/ _ \\ '__|\n",
            " | |__| | |_| | (_| |   <  __/ |___| (_| | |_) |  __/ |  __/ |\n",
            "  \\___\\_\\__,_|\\__,_|_|\\_\\___|______\\__,_|_.__/ \\___|_|\\___|_|\n",
            "        \n",
            "QuakeLabeler provides multiple modes for different levels of Seismic AI researchers \n",
            " \n",
            "[Beginner]  mode -- Quick start dataset recipes in small, middle, large scales. \n",
            "[Advanced]  mode -- Custom all details in your dataset. \n",
            "[Benchmark] mode -- Built-in standard seismic datasets in scales.\n",
            "Please select a mode: [1/2/3/Beginner/Advanced/Benchmark] 1\n",
            "Initialize Beginner Mode...\n",
            "Select one of the following sample fields:  [1/2/3/4] \n",
            "                       [1] 2010 Cascadia subduction zone earthquake activities (M > 3.0) \n",
            "                       [2] 2011 Tōhoku earthquake and tsunami \n",
            "                       [3] 2016 Oklahoma human activity-induced earthquakes \n",
            "                       [4] 2018 Big quakes in Southern California (M>6.5) \n",
            "                       [0] Re-direct to Running Mode Selection. \n",
            "  1\n"
          ]
        }
      ]
    },
    {
      "cell_type": "markdown",
      "metadata": {
        "id": "RCPVoxBADNaB"
      },
      "source": [
        "## Send search request to ISC arrivals bulletin website\n",
        "Here we query earthquake events from 2011 Tōhoku earthquake and tsunami. All natural events will be downloaded as a series of arrival-based catalog. \\\\\n",
        "Data source: [ISC Arrivals Bulletin ](http://isc-mirror.iris.washington.edu/iscbulletin/search/arrivals/#amplitudes)\n",
        " "
      ]
    },
    {
      "cell_type": "code",
      "metadata": {
        "colab": {
          "base_uri": "https://localhost:8080/"
        },
        "id": "sFfBf7CUn8MG",
        "outputId": "d66b3aa0-0e76-4ade-ed11-7e705c9cde67"
      },
      "source": [
        "query = QueryArrival(**user_interface.params)"
      ],
      "execution_count": null,
      "outputs": [
        {
          "output_type": "stream",
          "name": "stdout",
          "text": [
            "Loading time varies on your network connections, search region scale, time range, etc. Please be patient, estimated time: 3 mins \n",
            "Request completed！！！\n",
            "310 events have been found!\n",
            "Query time is 5 seconds.\n"
          ]
        }
      ]
    },
    {
      "cell_type": "markdown",
      "metadata": {
        "id": "hjnkbcAHokcR"
      },
      "source": [
        "## Create earthquake maps"
      ]
    },
    {
      "cell_type": "code",
      "metadata": {
        "colab": {
          "base_uri": "https://localhost:8080/",
          "height": 35
        },
        "id": "dyzUetOnpeQq",
        "outputId": "31048d88-db59-47da-a88f-d44dfd115a6c"
      },
      "source": [
        "query.record_folder"
      ],
      "execution_count": null,
      "outputs": [
        {
          "output_type": "execute_result",
          "data": {
            "application/vnd.google.colaboratory.intrinsic+json": {
              "type": "string"
            },
            "text/plain": [
              "'/content/QLTest/recordings31/'"
            ]
          },
          "metadata": {},
          "execution_count": 14
        }
      ]
    },
    {
      "cell_type": "code",
      "metadata": {
        "id": "S6L4zF_usJvd"
      },
      "source": [
        "# cannot find gmap-stations.txt"
      ],
      "execution_count": null,
      "outputs": []
    },
    {
      "cell_type": "code",
      "metadata": {
        "id": "YvXe4SekGUiU",
        "colab": {
          "base_uri": "https://localhost:8080/",
          "height": 436
        },
        "outputId": "2347a50f-4b5d-4390-f8a8-83c7bc60a617"
      },
      "source": [
        "MT = MergeMetadata(query.record_folder) \n",
        "filelist = MT.select_folder()\n",
        "temp_pd = MT.merge_event(filelist)\n",
        "event_pd = MT.event_clean(temp_pd)\n",
        "# test station modules\n",
        "total_station = MT.merge_station(filelist)\n",
        "#sta_cat = MT.station_clean(total_station)  \n",
        "GM = GlobalMaps(total_station,event_pd)\n",
        "# display magnitude distribution\n",
        "GM.hist_plot(event_pd)\n"
      ],
      "execution_count": null,
      "outputs": [
        {
          "output_type": "stream",
          "name": "stderr",
          "text": [
            "grdimage [NOTICE]: Remote data courtesy of GMT data server oceania [http://oceania.generic-mapping-tools.org]\n",
            "grdimage [NOTICE]: Earth Relief at 20x20 arc minutes from Gaussian Cartesian filtering (37 km fullwidth) of SRTM15+V2.1 [Tozer et al., 2019].\n",
            "grdimage [NOTICE]:   -> Download grid file [831K]: earth_relief_20m_p.grd\n",
            "coast [NOTICE]: Downloading binned_GSHHS_f.nc for the first time - be patient\n",
            "coast [NOTICE]: Downloading binned_border_f.nc for the first time - be patient\n",
            "/usr/local/lib/python3.7/dist-packages/quakelabeler/classes.py:2440: FutureWarning: The 'sizes' parameter has been deprecated since v0.4.0 and will be removed in v0.6.0. Please use 'size' instead.\n",
            "  pen=\"black\"\n"
          ]
        },
        {
          "output_type": "display_data",
          "data": {
            "image/png": "[encoded data removed]",
            "text/plain": [
              "<Figure size 432x288 with 1 Axes>"
            ]
          },
          "metadata": {
            "needs_background": "light"
          }
        }
      ]
    },
    {
      "cell_type": "markdown",
      "metadata": {
        "id": "YkYbyKFSB_5A"
      },
      "source": [
        "Show event map"
      ]
    },
    {
      "cell_type": "code",
      "metadata": {
        "colab": {
          "base_uri": "https://localhost:8080/"
        },
        "id": "GeUtHhigwHmP",
        "outputId": "834e73a7-77c2-45cf-b15f-8fa54616ed15"
      },
      "source": [
        "GM.event_map(event_pd)   "
      ],
      "execution_count": null,
      "outputs": [
        {
          "output_type": "stream",
          "name": "stderr",
          "text": [
            "/usr/local/lib/python3.7/dist-packages/quakelabeler/classes.py:2440: FutureWarning: The 'sizes' parameter has been deprecated since v0.4.0 and will be removed in v0.6.0. Please use 'size' instead.\n",
            "  pen=\"black\"\n"
          ]
        }
      ]
    },
    {
      "cell_type": "code",
      "metadata": {
        "colab": {
          "base_uri": "https://localhost:8080/",
          "height": 286
        },
        "id": "CASNEK7Pw1nY",
        "outputId": "21e9ce9f-7743-46b3-de4d-fe79f69eadbb"
      },
      "source": [
        "import cv2\n",
        "import matplotlib.pyplot as plt\n",
        "img = cv2.imread('/content/QLTest/global_event_map.png')\n",
        "plt.imshow(img)\n"
      ],
      "execution_count": null,
      "outputs": [
        {
          "output_type": "execute_result",
          "data": {
            "text/plain": [
              "<matplotlib.image.AxesImage at 0x7ff4245d2b90>"
            ]
          },
          "metadata": {},
          "execution_count": 25
        },
        {
          "output_type": "display_data",
          "data": {
            "image/png": "[encoded data removed]",
            "text/plain": [
              "<Figure size 432x288 with 1 Axes>"
            ]
          },
          "metadata": {
            "needs_background": "light"
          }
        }
      ]
    },
    {
      "cell_type": "markdown",
      "metadata": {
        "id": "Q6ANrA7RwddT"
      },
      "source": [
        "## Input custom options\n",
        "In this instance (`Beginner` mode), 4 different recipes is provided. If you want to design your own dataset structures, please use `Advanced` mode."
      ]
    },
    {
      "cell_type": "code",
      "metadata": {
        "colab": {
          "base_uri": "https://localhost:8080/"
        },
        "id": "anUrvJADyHNS",
        "outputId": "d6acca6f-c073-438f-f970-e50f9776e062"
      },
      "source": [
        "# init custom options    \n",
        "custom = CustomSamples(user_interface.receipe_flag)\n",
        "# run custom of dataset structure\n",
        "custom.init()"
      ],
      "execution_count": null,
      "outputs": [
        {
          "name": "stdout",
          "output_type": "stream",
          "text": [
            "=====================================================================================\n",
            "             _      _             _               _                   _            \n",
            " __ _  _  _ (_) __ | |__ ___  ___| |_  __ _  _ _ | |_   _ _  ___  __ (_) _ __  ___ \n",
            "/ _` || || || |/ _|| / /|___|(_-<|  _|/ _` || '_||  _| | '_|/ -_)/ _|| || '_ \\/ -_)\n",
            "\\__, | \\_,_||_|\\__||_\\_\\     /__/ \\__|\\__,_||_|   \\__| |_|  \\___|\\__||_|| .__/\\___|\n",
            "   |_|                                                                  |_|        \n",
            "\n",
            "\n",
            "Quick-start recipe lists specific dataset structures of the\n",
            "current popular open-source AI/ML models on GitHub. Follow\n",
            "these recipes; users can generate the same forms of the datasets\n",
            "in QuakeLabeler with different scales (small, middle, large).\n",
            "                  \n",
            "=====================================================================================\n",
            "Please select the recipe:\n",
            "Initialize Quick-Start Recipe...\n",
            "Select one of the following recipe:  [1/2/3/4] \n",
            "                       [1] QuakeLabeler Simple Version \n",
            "                       [2] QuakeLabeler Delicate Version \n",
            "                       [3] PhaseNet Version \n",
            "                       [4] EQTransformer Version \n",
            "                       [0] Re-direct to Custom Mode. \n",
            "  1\n",
            "Select one of the scale of datastet:  [1/2/3/4] \n",
            "                           [1] Mini size (100) \n",
            "                           [2] Small size(1,000) \n",
            "                           [3] Middle size (5,000) \n",
            "                           [4] Large size (10,000) \n",
            "                           [0] Custom size \n",
            "  1\n"
          ]
        }
      ]
    },
    {
      "cell_type": "markdown",
      "metadata": {
        "id": "ws9BZFScy41T"
      },
      "source": [
        "## Building defined dataset\n",
        "`QuakeLabeler` will run automatically to produce the dataset. \\\\\n",
        "Running time decided by the size of the dataset. \\\\\n",
        "\n",
        "Currently `Obspy` will fail in Google Colab due to some reason. So the following procedure must be run in your local computer.   "
      ]
    },
    {
      "cell_type": "code",
      "metadata": {
        "colab": {
          "base_uri": "https://localhost:8080/",
          "height": 416
        },
        "id": "nCu7WJiey3A0",
        "outputId": "67c18910-c88c-40d2-aebb-b82b9354352b"
      },
      "source": [
        "# autp-production of dataset\n",
        "auto_dataset = QuakeLabeler(query, custom)\n",
        "# data collect and process\n",
        "auto_dataset.fetch_all_waveforms(auto_dataset.recordings)"
      ],
      "execution_count": null,
      "outputs": [
        {
          "output_type": "stream",
          "name": "stdout",
          "text": [
            "Initialize samples producer module...\n"
          ]
        },
        {
          "output_type": "stream",
          "name": "stderr",
          "text": [
            "/usr/local/lib/python3.7/dist-packages/quakelabeler/classes.py:590: UserWarning: 50+ continuous failed data requests, please quit process and check your parameters.\n",
            "  warnings.warn('50+ continuous failed data requests, please quit process and check your parameters.')\n"
          ]
        },
        {
          "output_type": "error",
          "ename": "KeyboardInterrupt",
          "evalue": "ignored",
          "traceback": [
            "\u001b[0;31m---------------------------------------------------------------------------\u001b[0m",
            "\u001b[0;31mKeyboardInterrupt\u001b[0m                         Traceback (most recent call last)",
            "\u001b[0;32m<ipython-input-33-960e74757e09>\u001b[0m in \u001b[0;36m<module>\u001b[0;34m()\u001b[0m\n\u001b[1;32m      2\u001b[0m \u001b[0mauto_dataset\u001b[0m \u001b[0;34m=\u001b[0m \u001b[0mQuakeLabeler\u001b[0m\u001b[0;34m(\u001b[0m\u001b[0mquery\u001b[0m\u001b[0;34m,\u001b[0m \u001b[0mcustom\u001b[0m\u001b[0;34m)\u001b[0m\u001b[0;34m\u001b[0m\u001b[0;34m\u001b[0m\u001b[0m\n\u001b[1;32m      3\u001b[0m \u001b[0;31m# data collect and process\u001b[0m\u001b[0;34m\u001b[0m\u001b[0;34m\u001b[0m\u001b[0;34m\u001b[0m\u001b[0m\n\u001b[0;32m----> 4\u001b[0;31m \u001b[0mauto_dataset\u001b[0m\u001b[0;34m.\u001b[0m\u001b[0mfetch_all_waveforms\u001b[0m\u001b[0;34m(\u001b[0m\u001b[0mauto_dataset\u001b[0m\u001b[0;34m.\u001b[0m\u001b[0mrecordings\u001b[0m\u001b[0;34m)\u001b[0m\u001b[0;34m\u001b[0m\u001b[0;34m\u001b[0m\u001b[0m\n\u001b[0m",
            "\u001b[0;32m/usr/local/lib/python3.7/dist-packages/quakelabeler/classes.py\u001b[0m in \u001b[0;36mfetch_all_waveforms\u001b[0;34m(self, records, clientname)\u001b[0m\n\u001b[1;32m    584\u001b[0m         \u001b[0;32mfor\u001b[0m \u001b[0mthread\u001b[0m \u001b[0;32min\u001b[0m \u001b[0mrecords\u001b[0m\u001b[0;34m:\u001b[0m\u001b[0;34m\u001b[0m\u001b[0;34m\u001b[0m\u001b[0m\n\u001b[1;32m    585\u001b[0m             \u001b[0;31m# request waveform from online clients\u001b[0m\u001b[0;34m\u001b[0m\u001b[0;34m\u001b[0m\u001b[0;34m\u001b[0m\u001b[0m\n\u001b[0;32m--> 586\u001b[0;31m             \u001b[0mst\u001b[0m \u001b[0;34m=\u001b[0m \u001b[0mself\u001b[0m\u001b[0;34m.\u001b[0m\u001b[0mfetch_waveform\u001b[0m\u001b[0;34m(\u001b[0m\u001b[0mthread\u001b[0m\u001b[0;34m,\u001b[0m \u001b[0mclientname\u001b[0m \u001b[0;34m)\u001b[0m\u001b[0;34m\u001b[0m\u001b[0;34m\u001b[0m\u001b[0m\n\u001b[0m\u001b[1;32m    587\u001b[0m             \u001b[0;32mif\u001b[0m \u001b[0mst\u001b[0m \u001b[0;34m==\u001b[0m \u001b[0;34m\"No data available for request.\"\u001b[0m\u001b[0;34m:\u001b[0m\u001b[0;34m\u001b[0m\u001b[0;34m\u001b[0m\u001b[0m\n\u001b[1;32m    588\u001b[0m                 \u001b[0mloopnum\u001b[0m \u001b[0;34m=\u001b[0m \u001b[0mloopnum\u001b[0m\u001b[0;34m+\u001b[0m\u001b[0;36m1\u001b[0m\u001b[0;34m\u001b[0m\u001b[0;34m\u001b[0m\u001b[0m\n",
            "\u001b[0;32m/usr/local/lib/python3.7/dist-packages/quakelabeler/classes.py\u001b[0m in \u001b[0;36mfetch_waveform\u001b[0;34m(self, thread, clientname)\u001b[0m\n\u001b[1;32m    322\u001b[0m         \u001b[0;34m(\u001b[0m\u001b[0mnetwork\u001b[0m\u001b[0;34m,\u001b[0m \u001b[0mstation\u001b[0m\u001b[0;34m,\u001b[0m \u001b[0mlocation\u001b[0m\u001b[0;34m,\u001b[0m \u001b[0mchannel\u001b[0m\u001b[0;34m)\u001b[0m \u001b[0;34m=\u001b[0m \u001b[0mself\u001b[0m\u001b[0;34m.\u001b[0m\u001b[0mrelated_station_info\u001b[0m\u001b[0;34m(\u001b[0m\u001b[0mthread\u001b[0m\u001b[0;34m[\u001b[0m\u001b[0;34m'STA'\u001b[0m\u001b[0;34m]\u001b[0m\u001b[0;34m)\u001b[0m\u001b[0;34m\u001b[0m\u001b[0;34m\u001b[0m\u001b[0m\n\u001b[1;32m    323\u001b[0m         \u001b[0;32mtry\u001b[0m\u001b[0;34m:\u001b[0m\u001b[0;34m\u001b[0m\u001b[0;34m\u001b[0m\u001b[0m\n\u001b[0;32m--> 324\u001b[0;31m             \u001b[0mst\u001b[0m \u001b[0;34m=\u001b[0m \u001b[0mclient\u001b[0m\u001b[0;34m.\u001b[0m\u001b[0mget_waveforms\u001b[0m\u001b[0;34m(\u001b[0m\u001b[0mnetwork\u001b[0m\u001b[0;34m,\u001b[0m \u001b[0mstation\u001b[0m\u001b[0;34m,\u001b[0m \u001b[0mlocation\u001b[0m\u001b[0;34m,\u001b[0m \u001b[0mchannel\u001b[0m\u001b[0;34m,\u001b[0m \u001b[0mstart_time\u001b[0m\u001b[0;34m,\u001b[0m \u001b[0mend_time\u001b[0m\u001b[0;34m+\u001b[0m\u001b[0;36m10\u001b[0m\u001b[0;34m)\u001b[0m\u001b[0;34m\u001b[0m\u001b[0;34m\u001b[0m\u001b[0m\n\u001b[0m\u001b[1;32m    325\u001b[0m             \u001b[0;31m# param attach_response  NEED UPDATE ONE INTERACTIVE PARAMTER HERE\u001b[0m\u001b[0;34m\u001b[0m\u001b[0;34m\u001b[0m\u001b[0;34m\u001b[0m\u001b[0m\n\u001b[1;32m    326\u001b[0m         \u001b[0;32mexcept\u001b[0m \u001b[0mException\u001b[0m\u001b[0;34m:\u001b[0m\u001b[0;34m\u001b[0m\u001b[0;34m\u001b[0m\u001b[0m\n",
            "\u001b[0;32m/usr/local/lib/python3.7/dist-packages/obspy/clients/fdsn/client.py\u001b[0m in \u001b[0;36mget_waveforms\u001b[0;34m(self, network, station, location, channel, starttime, endtime, quality, minimumlength, longestonly, filename, attach_response, **kwargs)\u001b[0m\n\u001b[1;32m    842\u001b[0m         \u001b[0;31m# Gzip not worth it for MiniSEED and most likely disabled for this\u001b[0m\u001b[0;34m\u001b[0m\u001b[0;34m\u001b[0m\u001b[0;34m\u001b[0m\u001b[0m\n\u001b[1;32m    843\u001b[0m         \u001b[0;31m# route in any case.\u001b[0m\u001b[0;34m\u001b[0m\u001b[0;34m\u001b[0m\u001b[0;34m\u001b[0m\u001b[0m\n\u001b[0;32m--> 844\u001b[0;31m         \u001b[0mdata_stream\u001b[0m \u001b[0;34m=\u001b[0m \u001b[0mself\u001b[0m\u001b[0;34m.\u001b[0m\u001b[0m_download\u001b[0m\u001b[0;34m(\u001b[0m\u001b[0murl\u001b[0m\u001b[0;34m,\u001b[0m \u001b[0muse_gzip\u001b[0m\u001b[0;34m=\u001b[0m\u001b[0;32mFalse\u001b[0m\u001b[0;34m)\u001b[0m\u001b[0;34m\u001b[0m\u001b[0;34m\u001b[0m\u001b[0m\n\u001b[0m\u001b[1;32m    845\u001b[0m         \u001b[0mdata_stream\u001b[0m\u001b[0;34m.\u001b[0m\u001b[0mseek\u001b[0m\u001b[0;34m(\u001b[0m\u001b[0;36m0\u001b[0m\u001b[0;34m,\u001b[0m \u001b[0;36m0\u001b[0m\u001b[0;34m)\u001b[0m\u001b[0;34m\u001b[0m\u001b[0;34m\u001b[0m\u001b[0m\n\u001b[1;32m    846\u001b[0m         \u001b[0;32mif\u001b[0m \u001b[0mfilename\u001b[0m\u001b[0;34m:\u001b[0m\u001b[0;34m\u001b[0m\u001b[0;34m\u001b[0m\u001b[0m\n",
            "\u001b[0;32m/usr/local/lib/python3.7/dist-packages/obspy/clients/fdsn/client.py\u001b[0m in \u001b[0;36m_download\u001b[0;34m(self, url, return_string, data, use_gzip)\u001b[0m\n\u001b[1;32m   1394\u001b[0m             \u001b[0murl\u001b[0m\u001b[0;34m,\u001b[0m \u001b[0mopener\u001b[0m\u001b[0;34m=\u001b[0m\u001b[0mself\u001b[0m\u001b[0;34m.\u001b[0m\u001b[0m_url_opener\u001b[0m\u001b[0;34m,\u001b[0m \u001b[0mheaders\u001b[0m\u001b[0;34m=\u001b[0m\u001b[0mself\u001b[0m\u001b[0;34m.\u001b[0m\u001b[0mrequest_headers\u001b[0m\u001b[0;34m,\u001b[0m\u001b[0;34m\u001b[0m\u001b[0;34m\u001b[0m\u001b[0m\n\u001b[1;32m   1395\u001b[0m             \u001b[0mdebug\u001b[0m\u001b[0;34m=\u001b[0m\u001b[0mself\u001b[0m\u001b[0;34m.\u001b[0m\u001b[0mdebug\u001b[0m\u001b[0;34m,\u001b[0m \u001b[0mreturn_string\u001b[0m\u001b[0;34m=\u001b[0m\u001b[0mreturn_string\u001b[0m\u001b[0;34m,\u001b[0m \u001b[0mdata\u001b[0m\u001b[0;34m=\u001b[0m\u001b[0mdata\u001b[0m\u001b[0;34m,\u001b[0m\u001b[0;34m\u001b[0m\u001b[0;34m\u001b[0m\u001b[0m\n\u001b[0;32m-> 1396\u001b[0;31m             timeout=self.timeout, use_gzip=use_gzip)\n\u001b[0m\u001b[1;32m   1397\u001b[0m         \u001b[0mraise_on_error\u001b[0m\u001b[0;34m(\u001b[0m\u001b[0mcode\u001b[0m\u001b[0;34m,\u001b[0m \u001b[0mdata\u001b[0m\u001b[0;34m)\u001b[0m\u001b[0;34m\u001b[0m\u001b[0;34m\u001b[0m\u001b[0m\n\u001b[1;32m   1398\u001b[0m         \u001b[0;32mreturn\u001b[0m \u001b[0mdata\u001b[0m\u001b[0;34m\u001b[0m\u001b[0;34m\u001b[0m\u001b[0m\n",
            "\u001b[0;32m/usr/local/lib/python3.7/dist-packages/obspy/clients/fdsn/client.py\u001b[0m in \u001b[0;36mdownload_url\u001b[0;34m(url, opener, timeout, headers, debug, return_string, data, use_gzip)\u001b[0m\n\u001b[1;32m   1817\u001b[0m \u001b[0;34m\u001b[0m\u001b[0m\n\u001b[1;32m   1818\u001b[0m     \u001b[0;32mif\u001b[0m \u001b[0mreturn_string\u001b[0m \u001b[0;32mis\u001b[0m \u001b[0;32mFalse\u001b[0m\u001b[0;34m:\u001b[0m\u001b[0;34m\u001b[0m\u001b[0;34m\u001b[0m\u001b[0m\n\u001b[0;32m-> 1819\u001b[0;31m         \u001b[0mdata\u001b[0m \u001b[0;34m=\u001b[0m \u001b[0mio\u001b[0m\u001b[0;34m.\u001b[0m\u001b[0mBytesIO\u001b[0m\u001b[0;34m(\u001b[0m\u001b[0mf\u001b[0m\u001b[0;34m.\u001b[0m\u001b[0mread\u001b[0m\u001b[0;34m(\u001b[0m\u001b[0;34m)\u001b[0m\u001b[0;34m)\u001b[0m\u001b[0;34m\u001b[0m\u001b[0;34m\u001b[0m\u001b[0m\n\u001b[0m\u001b[1;32m   1820\u001b[0m     \u001b[0;32melse\u001b[0m\u001b[0;34m:\u001b[0m\u001b[0;34m\u001b[0m\u001b[0;34m\u001b[0m\u001b[0m\n\u001b[1;32m   1821\u001b[0m         \u001b[0mdata\u001b[0m \u001b[0;34m=\u001b[0m \u001b[0mf\u001b[0m\u001b[0;34m.\u001b[0m\u001b[0mread\u001b[0m\u001b[0;34m(\u001b[0m\u001b[0;34m)\u001b[0m\u001b[0;34m\u001b[0m\u001b[0;34m\u001b[0m\u001b[0m\n",
            "\u001b[0;32m/usr/lib/python3.7/http/client.py\u001b[0m in \u001b[0;36mread\u001b[0;34m(self, amt)\u001b[0m\n\u001b[1;32m    470\u001b[0m \u001b[0;34m\u001b[0m\u001b[0m\n\u001b[1;32m    471\u001b[0m             \u001b[0;32mif\u001b[0m \u001b[0mself\u001b[0m\u001b[0;34m.\u001b[0m\u001b[0mchunked\u001b[0m\u001b[0;34m:\u001b[0m\u001b[0;34m\u001b[0m\u001b[0;34m\u001b[0m\u001b[0m\n\u001b[0;32m--> 472\u001b[0;31m                 \u001b[0;32mreturn\u001b[0m \u001b[0mself\u001b[0m\u001b[0;34m.\u001b[0m\u001b[0m_readall_chunked\u001b[0m\u001b[0;34m(\u001b[0m\u001b[0;34m)\u001b[0m\u001b[0;34m\u001b[0m\u001b[0;34m\u001b[0m\u001b[0m\n\u001b[0m\u001b[1;32m    473\u001b[0m \u001b[0;34m\u001b[0m\u001b[0m\n\u001b[1;32m    474\u001b[0m             \u001b[0;32mif\u001b[0m \u001b[0mself\u001b[0m\u001b[0;34m.\u001b[0m\u001b[0mlength\u001b[0m \u001b[0;32mis\u001b[0m \u001b[0;32mNone\u001b[0m\u001b[0;34m:\u001b[0m\u001b[0;34m\u001b[0m\u001b[0;34m\u001b[0m\u001b[0m\n",
            "\u001b[0;32m/usr/lib/python3.7/http/client.py\u001b[0m in \u001b[0;36m_readall_chunked\u001b[0;34m(self)\u001b[0m\n\u001b[1;32m    577\u001b[0m         \u001b[0;32mtry\u001b[0m\u001b[0;34m:\u001b[0m\u001b[0;34m\u001b[0m\u001b[0;34m\u001b[0m\u001b[0m\n\u001b[1;32m    578\u001b[0m             \u001b[0;32mwhile\u001b[0m \u001b[0;32mTrue\u001b[0m\u001b[0;34m:\u001b[0m\u001b[0;34m\u001b[0m\u001b[0;34m\u001b[0m\u001b[0m\n\u001b[0;32m--> 579\u001b[0;31m                 \u001b[0mchunk_left\u001b[0m \u001b[0;34m=\u001b[0m \u001b[0mself\u001b[0m\u001b[0;34m.\u001b[0m\u001b[0m_get_chunk_left\u001b[0m\u001b[0;34m(\u001b[0m\u001b[0;34m)\u001b[0m\u001b[0;34m\u001b[0m\u001b[0;34m\u001b[0m\u001b[0m\n\u001b[0m\u001b[1;32m    580\u001b[0m                 \u001b[0;32mif\u001b[0m \u001b[0mchunk_left\u001b[0m \u001b[0;32mis\u001b[0m \u001b[0;32mNone\u001b[0m\u001b[0;34m:\u001b[0m\u001b[0;34m\u001b[0m\u001b[0;34m\u001b[0m\u001b[0m\n\u001b[1;32m    581\u001b[0m                     \u001b[0;32mbreak\u001b[0m\u001b[0;34m\u001b[0m\u001b[0;34m\u001b[0m\u001b[0m\n",
            "\u001b[0;32m/usr/lib/python3.7/http/client.py\u001b[0m in \u001b[0;36m_get_chunk_left\u001b[0;34m(self)\u001b[0m\n\u001b[1;32m    560\u001b[0m                 \u001b[0mself\u001b[0m\u001b[0;34m.\u001b[0m\u001b[0m_safe_read\u001b[0m\u001b[0;34m(\u001b[0m\u001b[0;36m2\u001b[0m\u001b[0;34m)\u001b[0m  \u001b[0;31m# toss the CRLF at the end of the chunk\u001b[0m\u001b[0;34m\u001b[0m\u001b[0;34m\u001b[0m\u001b[0m\n\u001b[1;32m    561\u001b[0m             \u001b[0;32mtry\u001b[0m\u001b[0;34m:\u001b[0m\u001b[0;34m\u001b[0m\u001b[0;34m\u001b[0m\u001b[0m\n\u001b[0;32m--> 562\u001b[0;31m                 \u001b[0mchunk_left\u001b[0m \u001b[0;34m=\u001b[0m \u001b[0mself\u001b[0m\u001b[0;34m.\u001b[0m\u001b[0m_read_next_chunk_size\u001b[0m\u001b[0;34m(\u001b[0m\u001b[0;34m)\u001b[0m\u001b[0;34m\u001b[0m\u001b[0;34m\u001b[0m\u001b[0m\n\u001b[0m\u001b[1;32m    563\u001b[0m             \u001b[0;32mexcept\u001b[0m \u001b[0mValueError\u001b[0m\u001b[0;34m:\u001b[0m\u001b[0;34m\u001b[0m\u001b[0;34m\u001b[0m\u001b[0m\n\u001b[1;32m    564\u001b[0m                 \u001b[0;32mraise\u001b[0m \u001b[0mIncompleteRead\u001b[0m\u001b[0;34m(\u001b[0m\u001b[0;34mb''\u001b[0m\u001b[0;34m)\u001b[0m\u001b[0;34m\u001b[0m\u001b[0;34m\u001b[0m\u001b[0m\n",
            "\u001b[0;32m/usr/lib/python3.7/http/client.py\u001b[0m in \u001b[0;36m_read_next_chunk_size\u001b[0;34m(self)\u001b[0m\n\u001b[1;32m    520\u001b[0m     \u001b[0;32mdef\u001b[0m \u001b[0m_read_next_chunk_size\u001b[0m\u001b[0;34m(\u001b[0m\u001b[0mself\u001b[0m\u001b[0;34m)\u001b[0m\u001b[0;34m:\u001b[0m\u001b[0;34m\u001b[0m\u001b[0;34m\u001b[0m\u001b[0m\n\u001b[1;32m    521\u001b[0m         \u001b[0;31m# Read the next chunk size from the file\u001b[0m\u001b[0;34m\u001b[0m\u001b[0;34m\u001b[0m\u001b[0;34m\u001b[0m\u001b[0m\n\u001b[0;32m--> 522\u001b[0;31m         \u001b[0mline\u001b[0m \u001b[0;34m=\u001b[0m \u001b[0mself\u001b[0m\u001b[0;34m.\u001b[0m\u001b[0mfp\u001b[0m\u001b[0;34m.\u001b[0m\u001b[0mreadline\u001b[0m\u001b[0;34m(\u001b[0m\u001b[0m_MAXLINE\u001b[0m \u001b[0;34m+\u001b[0m \u001b[0;36m1\u001b[0m\u001b[0;34m)\u001b[0m\u001b[0;34m\u001b[0m\u001b[0;34m\u001b[0m\u001b[0m\n\u001b[0m\u001b[1;32m    523\u001b[0m         \u001b[0;32mif\u001b[0m \u001b[0mlen\u001b[0m\u001b[0;34m(\u001b[0m\u001b[0mline\u001b[0m\u001b[0;34m)\u001b[0m \u001b[0;34m>\u001b[0m \u001b[0m_MAXLINE\u001b[0m\u001b[0;34m:\u001b[0m\u001b[0;34m\u001b[0m\u001b[0;34m\u001b[0m\u001b[0m\n\u001b[1;32m    524\u001b[0m             \u001b[0;32mraise\u001b[0m \u001b[0mLineTooLong\u001b[0m\u001b[0;34m(\u001b[0m\u001b[0;34m\"chunk size\"\u001b[0m\u001b[0;34m)\u001b[0m\u001b[0;34m\u001b[0m\u001b[0;34m\u001b[0m\u001b[0m\n",
            "\u001b[0;32m/usr/lib/python3.7/socket.py\u001b[0m in \u001b[0;36mreadinto\u001b[0;34m(self, b)\u001b[0m\n\u001b[1;32m    587\u001b[0m         \u001b[0;32mwhile\u001b[0m \u001b[0;32mTrue\u001b[0m\u001b[0;34m:\u001b[0m\u001b[0;34m\u001b[0m\u001b[0;34m\u001b[0m\u001b[0m\n\u001b[1;32m    588\u001b[0m             \u001b[0;32mtry\u001b[0m\u001b[0;34m:\u001b[0m\u001b[0;34m\u001b[0m\u001b[0;34m\u001b[0m\u001b[0m\n\u001b[0;32m--> 589\u001b[0;31m                 \u001b[0;32mreturn\u001b[0m \u001b[0mself\u001b[0m\u001b[0;34m.\u001b[0m\u001b[0m_sock\u001b[0m\u001b[0;34m.\u001b[0m\u001b[0mrecv_into\u001b[0m\u001b[0;34m(\u001b[0m\u001b[0mb\u001b[0m\u001b[0;34m)\u001b[0m\u001b[0;34m\u001b[0m\u001b[0;34m\u001b[0m\u001b[0m\n\u001b[0m\u001b[1;32m    590\u001b[0m             \u001b[0;32mexcept\u001b[0m \u001b[0mtimeout\u001b[0m\u001b[0;34m:\u001b[0m\u001b[0;34m\u001b[0m\u001b[0;34m\u001b[0m\u001b[0m\n\u001b[1;32m    591\u001b[0m                 \u001b[0mself\u001b[0m\u001b[0;34m.\u001b[0m\u001b[0m_timeout_occurred\u001b[0m \u001b[0;34m=\u001b[0m \u001b[0;32mTrue\u001b[0m\u001b[0;34m\u001b[0m\u001b[0;34m\u001b[0m\u001b[0m\n",
            "\u001b[0;31mKeyboardInterrupt\u001b[0m: "
          ]
        }
      ]
    },
    {
      "cell_type": "markdown",
      "metadata": {
        "id": "SMTc63lhy2s-"
      },
      "source": [
        "Display sample waveforms"
      ]
    },
    {
      "cell_type": "code",
      "metadata": {
        "id": "pULuTuD0zhah"
      },
      "source": [
        "# waveform graph\n",
        "auto_dataset.waveform_display()"
      ],
      "execution_count": null,
      "outputs": []
    },
    {
      "cell_type": "code",
      "metadata": {
        "id": "b10Pmroozt46"
      },
      "source": [
        "# stats graph\n",
        "auto_dataset.stats_figure()"
      ],
      "execution_count": null,
      "outputs": []
    },
    {
      "cell_type": "code",
      "metadata": {
        "id": "VS6MyUX3zzUK"
      },
      "source": [
        "# create same size of noise waveform\n",
        "auto_dataset.noisegenerator()"
      ],
      "execution_count": null,
      "outputs": []
    },
    {
      "cell_type": "code",
      "metadata": {
        "id": "9oSgiX06z7tJ"
      },
      "source": [
        "# record information in csv file\n",
        "auto_dataset.csv_writer() "
      ],
      "execution_count": null,
      "outputs": []
    },
    {
      "cell_type": "code",
      "metadata": {
        "id": "hcprbhhJ0HAD"
      },
      "source": [
        "# assign samples into test and training sub-folder\n",
        "auto_dataset.subfolder()"
      ],
      "execution_count": null,
      "outputs": []
    },
    {
      "cell_type": "markdown",
      "metadata": {
        "id": "YtKlBiKM0RQh"
      },
      "source": [
        "## Beginner mode finished!\n"
      ]
    },
    {
      "cell_type": "code",
      "metadata": {
        "id": "w6jwnmb_lc8-"
      },
      "source": [
        "def find_all_vars(text, *args):\n",
        "    r\"\"\"Store all arrival information\n",
        "    This method save all fetched information into `recordings`:\n",
        "        #. EVENTID\n",
        "        #. STA\n",
        "        #. PHASE NAME\n",
        "        #. ARRIVAL DATE\n",
        "        #. ARRIVAL TIME\n",
        "        #. ORIGIN DATE\n",
        "        #. ORIGIN TIME\n",
        "        #. EVENT TYPE\n",
        "        #. EVENT MAG\n",
        "    \"\"\"\n",
        "    ex = r'MAG (.*) '\n",
        "    all_variables = re.findall(ex, text, re.S)\n",
        "    all_vars = re.split(r',', all_variables[0])\n",
        "    #find last index\n",
        "    for index in range(len(all_vars) - 1, 0, -1):\n",
        "        if 'STOP' in all_vars[index]:\n",
        "            break\n",
        "    # initialization of recording, include all webset information\n",
        "    recordings = {\n",
        "    'EVENTID' : [] ,\n",
        "    'STA' : [],\n",
        "    'CHN' : [],\n",
        "    'ISCPHASE' : [],\n",
        "    'REPPHASE' : [],\n",
        "    'ARRIVAL_LAT' : [],\n",
        "    'ARRIVAL_LON' : [],\n",
        "    'ARRIVAL_ELEV' : [],\n",
        "    'ARRIVAL_DIST' : [],\n",
        "    'ARRIVAL_BAZ' : [],\n",
        "    'ARRIVAL_DATE' : [],\n",
        "    'ARRIVAL_TIME' : [],\n",
        "    'ORIGIN_LAT' : [],\n",
        "    'ORIGIN_LON' : [],\n",
        "    'ORIGINL_DEPTH' : [],\n",
        "    'ORIGIN_DATE' : [],\n",
        "    'ORIGIN_TIME' : [],\n",
        "    'EVENT_TYPE' :[],\n",
        "    'EVENT_MAG' : [] }\n",
        "    pattern = re.compile(r'(?<=event_id=)\\d*')\n",
        "    pattern_sta = re.compile(r'stacode=(.*) target')\n",
        "    for i in range(0, index, 25):\n",
        "        recordings['EVENTID'].append(int(pattern.findall(all_vars[i])[0]))\n",
        "        recordings['STA'].append(pattern_sta.findall(all_vars[i+2])[0])\n",
        "        recordings['CHN'].append(str.strip(all_vars[i+6]))\n",
        "        recordings['ISCPHASE'].append(str.strip(all_vars[i+9]))\n",
        "        recordings['REPPHASE'].append(str.strip(all_vars[i+10]))\n",
        "        recordings['ARRIVAL_LAT'].append(float(all_vars[i+3]))\n",
        "        recordings['ARRIVAL_LON'].append(float(all_vars[i+4]))\n",
        "        recordings['ARRIVAL_ELEV'].append(float(all_vars[i+5]))\n",
        "        recordings['ARRIVAL_DIST'].append(float(all_vars[i+7]))\n",
        "        recordings['ARRIVAL_BAZ'].append(float(all_vars[i+8]))\n",
        "        recordings['ARRIVAL_DATE'].append(str.strip(all_vars[i+11]))\n",
        "        recordings['ARRIVAL_TIME'].append(str.strip(all_vars[i+12]))\n",
        "        recordings['ORIGIN_LAT'].append(float(all_vars[i+20]))\n",
        "        recordings['ORIGIN_LON'].append(float(all_vars[i+21]))\n",
        "        recordings['ORIGINL_DEPTH'].append(float(all_vars[i+22]))\n",
        "        recordings['ORIGIN_DATE'].append(str.strip(all_vars[i+18]))\n",
        "        recordings['ORIGIN_TIME'].append(str.strip(all_vars[i+19]))\n",
        "        recordings['EVENT_TYPE'].append(str.strip(all_vars[i+24]))\n",
        "        if str.isspace(re.split('\\n', all_vars[i+25])[0]):\n",
        "            recordings['EVENT_MAG'].append(float('NaN'))\n",
        "        else:\n",
        "            recordings['EVENT_MAG'].append(float(re.split('\\n', all_vars[i+25])[0]))\n",
        "    return recordings       "
      ],
      "execution_count": null,
      "outputs": []
    },
    {
      "cell_type": "code",
      "metadata": {
        "id": "NV2od9Yqltjv"
      },
      "source": [
        "import re\n",
        "recordings = find_all_vars(r.text, 'EVENTID', 'STA','CHN',\n",
        "                               'ISCPHASE','REPPHASE',  \n",
        "                               'ARRIVAL_LAT', 'ARRIVAL_LON',\n",
        "                               'ARRIVAL_ELEV','ARRIVAL_DIST','ARRIVAL_BAZ',\n",
        "                               'ARRIVAL_DATE','ARRIVAL_TIME',\n",
        "                               'ORIGIN_LAT' ,'ORIGIN_LON','ORIGINL_DEPTH',\n",
        "                               'ORIGIN_DATE' ,'ORIGIN_TIME',\n",
        "                               'EVENT_TYPE','EVENT_MAG')"
      ],
      "execution_count": null,
      "outputs": []
    },
    {
      "cell_type": "code",
      "metadata": {
        "id": "4I6t3JSzt7mZ"
      },
      "source": [
        "#%% create DataFrame from dict\n",
        "import pandas as pd\n",
        "# numpy to list\n",
        "# arrlist = recordings.tolist()\n",
        "data = pd.DataFrame(data=recordings)"
      ],
      "execution_count": null,
      "outputs": []
    },
    {
      "cell_type": "code",
      "metadata": {
        "id": "_ONtG2xovKLT"
      },
      "source": [
        "filename = \"/content/drive/My Drive/DataSet/\" + \"global_2013_365_a.csv\"\n",
        "data.to_csv(filename)"
      ],
      "execution_count": null,
      "outputs": []
    },
    {
      "cell_type": "code",
      "metadata": {
        "id": "0kXmFbMgx-n4"
      },
      "source": [
        "from google.colab import drive\n",
        "drive.mount('/content/drive')\n",
        "!pwd\n",
        "# copy it there\n",
        "#!cp example.txt\"/content/drive/My Drive/DataSet\"\n"
      ],
      "execution_count": null,
      "outputs": []
    },
    {
      "cell_type": "code",
      "metadata": {
        "id": "wH3HZIlHzD5s"
      },
      "source": [
        "data.head()"
      ],
      "execution_count": null,
      "outputs": []
    },
    {
      "cell_type": "code",
      "metadata": {
        "id": "-t2pytWvu-nU"
      },
      "source": [
        "data.describe()"
      ],
      "execution_count": null,
      "outputs": []
    },
    {
      "cell_type": "markdown",
      "metadata": {
        "id": "bDTg_CsqoHDP"
      },
      "source": [
        "#Test Different Request Case\n",
        "## Global Daily Event\n",
        "## Global Daily Different Levels\n",
        "## Global Days Event (Maximum: 7, 30, 60,100, 365)\n",
        "\n",
        "\n",
        "---\n",
        "\n",
        "\n",
        "## GSN Stations Day Event\n",
        "## GSN Stations Days Event(Max: 7, 30, 60, 100, 365)\n",
        "## GSN Different Magnitude Levels\n",
        "\n"
      ]
    },
    {
      "cell_type": "code",
      "metadata": {
        "id": "wMgVNLOppSu6"
      },
      "source": [
        "# request modules\n",
        "import time\n",
        "\n",
        "starttime = time.time()\n",
        "# global station global region 365 days \n",
        "global_365 = 'http://www.isc.ac.uk/cgi-bin/web-db-v4?iscreview=on&out_format=CSV&ttime=on&ttres=on&tdef=on&amps=on&phaselist=&sta_list=&stnsearch=GLOBAL&stn_ctr_lat=&stn_ctr_lon=&stn_radius=&max_stn_dist_units=deg&stn_top_lat=&stn_bot_lat=&stn_left_lon=&stn_right_lon=&stn_srn=&stn_grn=&bot_lat=&top_lat=&left_lon=&right_lon=&ctr_lat=&ctr_lon=&radius=&max_dist_units=deg&searchshape=GLOBAL&srn=&grn=&start_year=2018&start_month=7&start_day=31&start_time=00%3A00%3A00&end_year=2019&end_month=8&end_day=01&end_time=00%3A00%3A00&min_dep=&max_dep=&min_mag=&max_mag=&req_mag_type=Any&req_mag_agcy=Any&include_links=on&request=STNARRIVALS'\n",
        "r = requests.get(global_365)\n",
        "endtime = time.time()\n",
        "totaltime = endtime - starttime\n",
        "print(\"The running time of request is {0} seconds\".format(totaltime))\n"
      ],
      "execution_count": null,
      "outputs": []
    },
    {
      "cell_type": "code",
      "metadata": {
        "id": "qagJ0_SGpXhj"
      },
      "source": [
        "print(r.text[:5000])"
      ],
      "execution_count": null,
      "outputs": []
    },
    {
      "cell_type": "markdown",
      "metadata": {
        "id": "VpSwXMyJpaYa"
      },
      "source": [
        ""
      ]
    },
    {
      "cell_type": "markdown",
      "metadata": {
        "id": "NULI4GNzpcE7"
      },
      "source": [
        "# How to save files in COLAB\n",
        "## Running performance\n",
        "## Running limitations"
      ]
    },
    {
      "cell_type": "code",
      "metadata": {
        "id": "4DxSRqBAyNNy"
      },
      "source": [
        ""
      ],
      "execution_count": null,
      "outputs": []
    },
    {
      "cell_type": "markdown",
      "metadata": {
        "id": "5RLexAHKyNom"
      },
      "source": [
        "# MergeMetadata\n",
        "This Class is to process the queries from online catalogues. \\\\\n",
        "    Fuctions to switch catalogues to Pandas.DataFrame objects:         \n",
        "*   data cleaning\n",
        "*   merge arrivals\n",
        "*   merge stations\n"
      ]
    },
    {
      "cell_type": "code",
      "metadata": {
        "id": "HOTIrNCpzFI3"
      },
      "source": [
        "#%% Merge Recordings\n",
        "# import packages\n",
        "import pandas as pd\n",
        "import time\n",
        "import os\n",
        "import numpy as np\n",
        "\n",
        "class MergeMetadata():\n",
        "    r''' This Class is to process the queries from online catalogues.\n",
        "    Fuctions to switch catalogues to Pandas.DataFrame objects:\n",
        "        data cleaning\n",
        "        merge arrivals\n",
        "        merge stations\n",
        "    '''\n",
        "    def __init__(self,folder):\n",
        "        # *.csv folder \n",
        "        self.path = folder\n",
        "        self.filelist = self.select_folder()\n",
        "        self.station = pd.DataFrame()\n",
        "        self.event = pd.DataFrame()\n",
        "    # choose folder\n",
        "    def select_folder(self):\n",
        "        filelist = os.listdir(self.path)\n",
        "        return filelist\n",
        "    # merge each station's events\n",
        "    def merge_station(self,filelist):\n",
        "        # loop\n",
        "        sta_cat = pd.DataFrame()\n",
        "        for file in filelist:\n",
        "            if file[-4:] != '.csv':\n",
        "                continue\n",
        "            temp_pd = self.load_metadata(filename)\n",
        "            temp_pd = temp_pd.drop_duplicates(['STA'])\n",
        "            sta_cat = sta_cat + temp_pd\n",
        "        sta_cat = sta_cat.drop_duplicates(['STA'])\n",
        "        return sta_cat\n",
        "    def load_metadata(self,filename):\n",
        "         ''' Read Signle CSV files\n",
        "         '''\n",
        "         meta_pd = pd.read_csv(self.path+filename)\n",
        "         return meta_pd  \n",
        "    # Remove dulicates of events \n",
        "    def event_id_clean(self,total_station):\n",
        "        # one event only reserve one time \n",
        "        event_cat = total_station.drop_duplicates(['EVENTID'])\n",
        "        event_cat = event_cat.dropna(axis=0, how='any')\n",
        "        return event_cat\n",
        "        \n",
        "    # Remove dulicates of station, add network information \n",
        "    def station_clean(self,stations):\n",
        "        global_sta = pd.read_table('gmap-stations.txt', sep='|')\n",
        "        # total_station = total_station.dropna(axis=0, how='any')\n",
        "        # stations = total_station.drop_duplicates(['STA'])\n",
        "        sta_cat = pd.DataFrame()\n",
        "    #    for sta in stations.iterrows():\n",
        "        temp_station =  global_sta[global_sta[' Station '].isin(stations['STA'])]\n",
        "        sta_cat = temp_station[temp_station[' Elevation '].isin(stations['ARRIVAL_ELEV'])]\n",
        "        return sta_cat\n",
        "class GlobalPlot():\n",
        "    r''' Export global graphs\n",
        "    Fuctions to plot:\n",
        "        global events map\n",
        "        global stations map\n",
        "        global event-station map\n",
        "        arrival example map\n",
        "    '''\n",
        "    def init(self):\n",
        "        pass\n",
        "    def event_map(self):\n",
        "        pass\n",
        "    def station_map(self):\n",
        "        pass\n",
        "    def event_station_map(self):\n",
        "        pass\n",
        "    def map_plot(self):\n",
        "        pass\n",
        "    def arrival_plot(self):\n",
        "        pass\n",
        "        \n",
        "#%% main\n",
        "def main():\n",
        "    filelist = selet_folder()\n",
        "    total_station = merge_station(filelist)\n",
        "    event_cat = event_id_clean(total_station)\n",
        "    sta_cat = station_clean(total_station)\n",
        "    sta_event_plot(event_cat,sta_cat)"
      ],
      "execution_count": null,
      "outputs": []
    },
    {
      "cell_type": "code",
      "metadata": {
        "id": "jZVcmU8Z4sth"
      },
      "source": [
        "MT = MergeMetadata('/content/drive/My Drive/DataSet/')\n",
        "filename = MT.filelist[3]"
      ],
      "execution_count": null,
      "outputs": []
    },
    {
      "cell_type": "code",
      "metadata": {
        "id": "HNznnVlFXMzm"
      },
      "source": [
        "sta = pd.DataFrame()"
      ],
      "execution_count": null,
      "outputs": []
    },
    {
      "cell_type": "code",
      "metadata": {
        "id": "x3URw87OWQyx"
      },
      "source": [
        "filelist = MT.select_folder()\n",
        "total_station = MT.merge_station(filelist)\n",
        "sta_cat = MT.station_clean(total_station)\n",
        "sta_cat"
      ],
      "execution_count": null,
      "outputs": []
    },
    {
      "cell_type": "code",
      "metadata": {
        "id": "Log1CRMe9JZ9"
      },
      "source": [
        "pd = MT.load_metadata(filename)\n",
        "event_pd = MT.event_id_clean(pd)\n",
        "event_pd.header()"
      ],
      "execution_count": null,
      "outputs": []
    },
    {
      "cell_type": "markdown",
      "metadata": {
        "id": "e2hTt5A8z2eg"
      },
      "source": [
        "# Previous Plot Methods\n",
        "use PyGMT to plot earthquake-station maps\n"
      ]
    },
    {
      "cell_type": "code",
      "metadata": {
        "id": "g-kjL60z0AaS"
      },
      "source": [
        "#%% read csv\n",
        "df = pd.read_csv(\"gsn.csv\")\n",
        "\n",
        "#%% plot global station\n",
        "\n",
        "import pygmt\n",
        "\n",
        "\n",
        "# Set Global scale region\n",
        "region = 'g'\n",
        "# Create pygmt.Figure\n",
        "fig = pygmt.Figure()\n",
        "grid = pygmt.datasets.load_earth_relief(resolution=\"03m\",region='g')\n",
        "fig.grdimage(region='g',grid=grid, projection=\"Y35/30/12c\", frame=\"a\", cmap=\"geo\")\n",
        "\n",
        "net_name = df['Network Code'].unique() \n",
        "# create colorlist\n",
        "colorsList = {}\n",
        "for i in net_name:\n",
        "#for i in range(len(net_name)):\n",
        "    colorsList[i] = '#%06X' % np.random.randint(0, 0xFFFFFF)\n",
        "#%% optimal colorList\n",
        "colorsList ={'CU': '#00FF00', #Lime\n",
        "             'GT': '#FF00FF', #Fuchsia\n",
        "             'IC': '#FFFF00', #Yellow\n",
        "             'II': '#0000FF', #Blue\n",
        "             'IU': '#FF0000'  #Red\n",
        "             }\n",
        "\n",
        "#%% loop in network\n",
        "for net in net_name:\n",
        "    fig.plot(\n",
        "        x=df[df['Network Code'] == net]['Longitude'],\n",
        "        y=df[df['Network Code'] == net]['Latitude'],\n",
        "        style=\"i3p\",\n",
        "        color=colorsList[net],\n",
        "        pen=\"black\",\n",
        "        label=net\n",
        "    )    \n",
        "fig.legend(position=\"JMR+o0.2c\",box=True)\n",
        "fig.show()\n",
        "fig.savefig('GSN.png', crop=True, dpi=300)\n",
        "#%% cannot use fig.legend()\n",
        "for idx, dff in df.iterrows():\n",
        "    fig.plot(\n",
        "        x=dff[\"Longitude\"],\n",
        "        y=dff[\"Latitude\"],\n",
        "        style=\"i3p\",\n",
        "        color=colorsList[dff['Network Code']],\n",
        "        pen=\"black\",\n",
        "        label=dff['Network Code']\n",
        "    )\n",
        "# both failed\n",
        "# I want to put legend outside map on middle right\n",
        "#fig.legend(position=\"JMR+o0.2c\",box=True)\n",
        "#fig.legend()\n",
        "fig.show()\n",
        "fig.savefig('GSN.png', crop=True, dpi=300)\n"
      ],
      "execution_count": null,
      "outputs": []
    }
  ]
}